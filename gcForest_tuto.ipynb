{
 "cells": [
  {
   "cell_type": "markdown",
   "metadata": {},
   "source": [
    "<h1>gcForest Algorithm</h1>\n",
    "\n",
    "<p>The gcForest algorithm was suggested in Zhou and Feng 2017 ( https://arxiv.org/abs/1702.08835 , refer for this paper for technical details) and I provide here a python3 implementation of this algorithm.<br>\n",
    "I chose to adopt the scikit-learn syntax for ease of use and hereafter I present how it can be used.</p>"
   ]
  },
  {
   "cell_type": "code",
   "execution_count": 1,
   "metadata": {
    "collapsed": true
   },
   "outputs": [],
   "source": [
    "from GCForest import gcForest\n",
    "from sklearn.datasets import load_iris, load_digits\n",
    "from sklearn.model_selection import train_test_split\n",
    "from sklearn.metrics import accuracy_score"
   ]
  },
  {
   "cell_type": "markdown",
   "metadata": {},
   "source": [
    "<h2>Iris example</h2>\n",
    "\n",
    "<p>The iris data set is actually not a very good example as the gcForest algorithm is better suited for time series and images where informations can be found at different scales in one sample.<br>\n",
    "Nonetheless it is still an easy way to test the method.</p>"
   ]
  },
  {
   "cell_type": "code",
   "execution_count": 2,
   "metadata": {
    "collapsed": true
   },
   "outputs": [],
   "source": [
    "# loading the data\n",
    "iris = load_iris()\n",
    "X = iris.data\n",
    "y = iris.target\n",
    "X_tr, X_te, y_tr, y_te = train_test_split(X, y, test_size=0.33)"
   ]
  },
  {
   "cell_type": "markdown",
   "metadata": {},
   "source": [
    "<p>First calling and training the algorithm.\n",
    "A specificity here is the presence of the 'shape_1X' keyword to specify the shape of a single sample.\n",
    "I have added it as pictures fed to the machinery might not be square.<br>\n",
    "Obviously it is not very relevant for the iris data set but still, it has to be defined.</p>"
   ]
  },
  {
   "cell_type": "code",
   "execution_count": 3,
   "metadata": {
    "collapsed": false
   },
   "outputs": [
    {
     "name": "stdout",
     "output_type": "stream",
     "text": [
      "Slicing Sequence...\n",
      "Training MGS Random Forests...\n",
      "Adding/Training Layer, n_layer=1\n",
      "Layer validation accuracy = 0.95\n",
      "Adding/Training Layer, n_layer=2\n",
      "Layer validation accuracy = 0.95\n"
     ]
    }
   ],
   "source": [
    "gcf = gcForest(shape_1X=[4,1], window=[2], tolerance=0.0)\n",
    "gcf.fit(X_tr, y_tr)"
   ]
  },
  {
   "cell_type": "markdown",
   "metadata": {},
   "source": [
    "<p>Now checking the prediction for the test set:<p>"
   ]
  },
  {
   "cell_type": "code",
   "execution_count": 4,
   "metadata": {
    "collapsed": false
   },
   "outputs": [
    {
     "name": "stdout",
     "output_type": "stream",
     "text": [
      "Slicing Sequence...\n",
      "[2 1 1 1 2 2 0 0 2 1 0 2 2 1 2 1 2 1 0 0 1 1 0 1 0 1 2 1 2 0 2 0 2 2 2 2 2\n",
      " 2 1 0 1 2 1 1 1 1 1 1 0 2]\n"
     ]
    }
   ],
   "source": [
    "pred_X = gcf.predict(X_te)\n",
    "print(pred_X)"
   ]
  },
  {
   "cell_type": "code",
   "execution_count": 5,
   "metadata": {
    "collapsed": false
   },
   "outputs": [
    {
     "name": "stdout",
     "output_type": "stream",
     "text": [
      "gcForest accuracy : 0.96\n"
     ]
    }
   ],
   "source": [
    "# evaluating accuracy\n",
    "accuracy = accuracy_score(y_true=y_te, y_pred=pred_X)\n",
    "print('gcForest accuracy : {}'.format(accuracy))"
   ]
  },
  {
   "cell_type": "markdown",
   "metadata": {},
   "source": [
    "<h2>Digits Example</h2>\n",
    "<p>A much better example is the digits data set containing images of hand written digits.\n",
    "The scikit data set can be viewed as a mini-MNIST for training purpose.</p>"
   ]
  },
  {
   "cell_type": "code",
   "execution_count": 6,
   "metadata": {
    "collapsed": true
   },
   "outputs": [],
   "source": [
    "# loading the data\n",
    "digits = load_digits()\n",
    "X = digits.data\n",
    "y = digits.target\n",
    "X_tr, X_te, y_tr, y_te = train_test_split(X, y, test_size=0.4)"
   ]
  },
  {
   "cell_type": "markdown",
   "metadata": {},
   "source": [
    "<p> ... taining gcForest ... (can take some time...) </p>"
   ]
  },
  {
   "cell_type": "code",
   "execution_count": 7,
   "metadata": {
    "collapsed": false
   },
   "outputs": [
    {
     "name": "stdout",
     "output_type": "stream",
     "text": [
      "Slicing Images...\n",
      "Training MGS Random Forests...\n",
      "Slicing Images...\n",
      "Training MGS Random Forests...\n",
      "Adding/Training Layer, n_layer=1\n",
      "Layer validation accuracy = 0.9814814814814815\n",
      "Adding/Training Layer, n_layer=2\n",
      "Layer validation accuracy = 0.9814814814814815\n"
     ]
    }
   ],
   "source": [
    "gcf = gcForest(shape_1X=[8,8], window=[4,6], tolerance=0.0, min_samples=7)\n",
    "gcf.fit(X_tr, y_tr)"
   ]
  },
  {
   "cell_type": "markdown",
   "metadata": {},
   "source": [
    "<p> ... and predicting classes ... </p>"
   ]
  },
  {
   "cell_type": "code",
   "execution_count": 8,
   "metadata": {
    "collapsed": false
   },
   "outputs": [
    {
     "name": "stdout",
     "output_type": "stream",
     "text": [
      "Slicing Images...\n",
      "Slicing Images...\n",
      "[2 3 3 7 6 2 8 1 9 2 5 5 6 9 7 9 8 0 9 0 7 0 5 2 2 7 1 6 5 5 5 2 7 4 9 4 0\n",
      " 1 5 9 3 8 4 5 9 6 5 9 5 0 0 1 3 0 7 0 7 5 5 6 6 8 7 7 9 2 2 9 2 2 1 1 5 3\n",
      " 2 4 0 4 9 1 3 5 2 6 0 9 6 3 3 7 3 6 0 4 8 8 8 2 2 5 4 7 5 2 0 1 6 6 5 9 6\n",
      " 8 8 8 2 2 2 9 5 7 1 1 0 1 8 7 9 2 0 4 1 0 0 5 0 3 0 8 9 2 1 6 7 3 6 5 2 5\n",
      " 3 3 8 0 9 8 7 6 1 2 0 5 0 1 3 1 4 9 0 6 9 9 5 1 2 1 2 7 4 9 6 5 6 4 6 4 9\n",
      " 0 7 8 0 3 7 0 7 4 2 1 2 2 0 6 6 0 9 9 8 8 4 0 9 0 4 6 9 2 8 2 9 4 1 3 9 8\n",
      " 2 4 9 8 6 9 5 7 7 2 9 7 9 6 7 4 6 9 1 8 4 4 7 1 5 4 0 2 5 9 2 4 4 4 3 1 5\n",
      " 9 3 6 2 0 4 5 3 8 6 6 0 1 5 6 8 5 4 9 7 0 8 5 5 2 8 1 5 1 8 1 5 9 3 3 3 6\n",
      " 0 5 0 5 2 4 6 2 6 6 0 3 9 0 2 4 9 9 2 4 9 4 1 3 1 8 9 3 2 8 6 5 0 5 3 5 7\n",
      " 2 1 6 6 3 0 0 6 8 9 5 5 0 3 9 3 9 2 1 8 5 9 9 1 9 4 7 0 5 8 4 8 8 5 2 3 6\n",
      " 1 4 9 2 1 0 4 5 3 7 7 8 6 8 5 8 8 7 2 7 7 5 8 7 8 6 7 2 6 7 5 4 2 2 1 0 1\n",
      " 3 9 6 9 7 5 2 3 6 6 2 6 7 5 1 3 3 8 1 7 2 6 0 6 2 7 6 7 3 0 4 4 0 4 3 5 4\n",
      " 7 6 6 3 3 3 6 1 4 2 6 5 4 8 7 5 6 3 2 8 7 8 9 6 5 3 2 8 4 5 0 7 7 5 7 1 4\n",
      " 6 5 2 6 1 8 4 0 4 3 3 1 6 7 4 0 0 3 1 7 7 2 2 5 9 7 1 3 0 7 2 0 5 2 7 1 9\n",
      " 2 6 6 0 6 9 2 3 0 2 6 5 7 3 1 2 7 2 4 9 5 4 5 9 7 8 5 2 9 3 4 8 4 2 4 5 9\n",
      " 4 5 4 1 6 9 5 6 2 0 2 1 1 3 7 8 3 1 7 0 6 1 0 5 9 0 7 6 0 3 9 9 9 8 2 5 2\n",
      " 1 9 9 1 9 6 5 4 5 4 7 5 0 9 8 9 3 5 1 3 6 6 5 4 8 9 0 2 5 9 5 2 3 2 0 4 4\n",
      " 1 7 6 9 9 9 9 2 1 7 6 3 0 1 7 9 8 8 3 4 5 5 9 3 5 1 3 1 0 7 3 6 2 7 0 6 3\n",
      " 2 4 5 2 4 8 4 4 4 7 6 2 5 1 6 5 9 3 5 7 8 3 3 9 5 9 3 1 0 6 4 7 2 9 4 7 3\n",
      " 6 8 1 0 3 1 4 9 4 3 2 6 4 4 8 5]\n"
     ]
    }
   ],
   "source": [
    "pred_X = gcf.predict(X_te)\n",
    "print(pred_X)"
   ]
  },
  {
   "cell_type": "code",
   "execution_count": 9,
   "metadata": {
    "collapsed": false
   },
   "outputs": [
    {
     "name": "stdout",
     "output_type": "stream",
     "text": [
      "gcForest accuracy : 0.9847009735744089\n"
     ]
    }
   ],
   "source": [
    "# evaluating accuracy\n",
    "accuracy = accuracy_score(y_true=y_te, y_pred=pred_X)\n",
    "print('gcForest accuracy : {}'.format(accuracy))"
   ]
  },
  {
   "cell_type": "markdown",
   "metadata": {
    "collapsed": false
   },
   "source": [
    "<h2>Using mg-scanning and cascade_forest Sperately</h2>\n",
    "<p>As the Multi-Grain scanning and the cascade forest modules are quite independent it is possible to use them seperately.<br>\n",
    "If a target `y` is given the code automaticcaly use it for training otherwise it recalls the last trained Random Forests to slice the data.</p>"
   ]
  },
  {
   "cell_type": "code",
   "execution_count": 10,
   "metadata": {
    "collapsed": false
   },
   "outputs": [
    {
     "name": "stdout",
     "output_type": "stream",
     "text": [
      "Slicing Images...\n",
      "Training MGS Random Forests...\n"
     ]
    }
   ],
   "source": [
    "gcf = gcForest(shape_1X=[8,8], window=[5], min_samples=7)\n",
    "X_tr_mgs = gcf.mg_scanning(X_tr, y_tr)"
   ]
  },
  {
   "cell_type": "code",
   "execution_count": 11,
   "metadata": {
    "collapsed": false
   },
   "outputs": [
    {
     "name": "stdout",
     "output_type": "stream",
     "text": [
      "Slicing Images...\n"
     ]
    }
   ],
   "source": [
    "X_te_mgs = gcf.mg_scanning(X_te)"
   ]
  },
  {
   "cell_type": "markdown",
   "metadata": {},
   "source": [
    "<p>It is now possible to use the mg_scanning output as input for cascade forests using different parameters. Note that the cascade forest module does not directly return predictions but probability predictions from each Random Forest in the last layer of the cascade. Hence the need to first take the mean of the output and then find the max.</p>"
   ]
  },
  {
   "cell_type": "code",
   "execution_count": 15,
   "metadata": {
    "collapsed": false
   },
   "outputs": [
    {
     "name": "stdout",
     "output_type": "stream",
     "text": [
      "Adding/Training Layer, n_layer=1\n",
      "Layer validation accuracy = 0.9953703703703703\n",
      "Adding/Training Layer, n_layer=2\n",
      "Layer validation accuracy = 0.9953703703703703\n"
     ]
    }
   ],
   "source": [
    "gcf = gcForest(tolerance=0.0, min_samples=7)\n",
    "_ = gcf.cascade_forest(X_tr_mgs, y_tr)"
   ]
  },
  {
   "cell_type": "code",
   "execution_count": 23,
   "metadata": {
    "collapsed": false
   },
   "outputs": [
    {
     "data": {
      "text/plain": [
       "0.97774687065368571"
      ]
     },
     "execution_count": 23,
     "metadata": {},
     "output_type": "execute_result"
    }
   ],
   "source": [
    "pred_proba = gcf.cascade_forest(X_te_mgs)\n",
    "tmp = np.mean(pred_proba, axis=0)\n",
    "preds = np.argmax(tmp, axis=1)\n",
    "accuracy_score(y_true=y_te, y_pred=preds)"
   ]
  },
  {
   "cell_type": "code",
   "execution_count": 24,
   "metadata": {
    "collapsed": false
   },
   "outputs": [
    {
     "name": "stdout",
     "output_type": "stream",
     "text": [
      "Adding/Training Layer, n_layer=1\n",
      "Layer validation accuracy = 0.9675925925925926\n",
      "Adding/Training Layer, n_layer=2\n",
      "Layer validation accuracy = 0.9722222222222222\n",
      "Adding/Training Layer, n_layer=3\n",
      "Layer validation accuracy = 0.9722222222222222\n"
     ]
    }
   ],
   "source": [
    "gcf = gcForest(tolerance=0.0, min_samples=20)\n",
    "_ = gcf.cascade_forest(X_tr_mgs, y_tr)"
   ]
  },
  {
   "cell_type": "code",
   "execution_count": 25,
   "metadata": {
    "collapsed": false
   },
   "outputs": [
    {
     "data": {
      "text/plain": [
       "0.98052851182197498"
      ]
     },
     "execution_count": 25,
     "metadata": {},
     "output_type": "execute_result"
    }
   ],
   "source": [
    "pred_proba = gcf.cascade_forest(X_te_mgs)\n",
    "tmp = np.mean(pred_proba, axis=0)\n",
    "preds = np.argmax(tmp, axis=1)\n",
    "accuracy_score(y_true=y_te, y_pred=preds)"
   ]
  },
  {
   "cell_type": "code",
   "execution_count": null,
   "metadata": {
    "collapsed": true
   },
   "outputs": [],
   "source": []
  }
 ],
 "metadata": {
  "kernelspec": {
   "display_name": "Python 3",
   "language": "python",
   "name": "python3"
  },
  "language_info": {
   "codemirror_mode": {
    "name": "ipython",
    "version": 3
   },
   "file_extension": ".py",
   "mimetype": "text/x-python",
   "name": "python",
   "nbconvert_exporter": "python",
   "pygments_lexer": "ipython3",
   "version": "3.5.2"
  }
 },
 "nbformat": 4,
 "nbformat_minor": 2
}
