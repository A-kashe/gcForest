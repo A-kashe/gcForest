{
 "cells": [
  {
   "cell_type": "markdown",
   "metadata": {},
   "source": [
    "<h1>gcForest Algorithm</h1>\n",
    "\n",
    "<p>The gcForest algorithm was suggested in Zhou and Feng 2017 ( https://arxiv.org/abs/1702.08835 , refer for this paper for technical details) and I provide here a python3 implementation of this algorithm.<br>\n",
    "I chose to adopt the scikit-learn syntax for ease of use and hereafter I present how it can be used.</p>"
   ]
  },
  {
   "cell_type": "code",
   "execution_count": 1,
   "metadata": {
    "collapsed": true
   },
   "outputs": [],
   "source": [
    "from GCForest import gcForest\n",
    "from sklearn.datasets import load_iris, load_digits\n",
    "from sklearn.model_selection import train_test_split\n",
    "from sklearn.metrics import accuracy_score"
   ]
  },
  {
   "cell_type": "markdown",
   "metadata": {},
   "source": [
    "<h2>Iris example</h2>\n",
    "\n",
    "<p>The iris data set is actually not a very good example as the gcForest algorithm is better suited for time series and images where informations can be found at different scales in one sample.<br>\n",
    "Nonetheless it is still an easy way to test the method.</p>"
   ]
  },
  {
   "cell_type": "code",
   "execution_count": 6,
   "metadata": {
    "collapsed": true
   },
   "outputs": [],
   "source": [
    "# loading the data\n",
    "iris = load_iris()\n",
    "X = iris.data\n",
    "y = iris.target\n",
    "X_tr, X_te, y_tr, y_te = train_test_split(X, y, test_size=0.33)"
   ]
  },
  {
   "cell_type": "markdown",
   "metadata": {},
   "source": [
    "<p>First calling and training the algorithm.\n",
    "A specificity here is the presence of the 'shape_1x' keyword to specify the shape of a single sample.\n",
    "I have added it as pictures fed to the machinery might not be square.<br>\n",
    "Obviously it is not very relevant for the iris data set but still, it has to be defined.</p>"
   ]
  },
  {
   "cell_type": "code",
   "execution_count": 7,
   "metadata": {
    "collapsed": false
   },
   "outputs": [
    {
     "name": "stdout",
     "output_type": "stream",
     "text": [
      "Slicing Sequence...\n",
      "Training MGS Random Forests...\n",
      "Adding/Training Layer, n_layer=1\n",
      "Layer validation accuracy = 1.0\n",
      "Adding/Training Layer, n_layer=2\n",
      "Layer validation accuracy = 1.0\n"
     ]
    }
   ],
   "source": [
    "gcf = gcForest(window=[2], tolerance=0.0)\n",
    "gcf.fit(X_tr, y_tr, shape_1X=[4,1])"
   ]
  },
  {
   "cell_type": "markdown",
   "metadata": {},
   "source": [
    "<p>Now checking the prediction for the same input:<p>"
   ]
  },
  {
   "cell_type": "code",
   "execution_count": 8,
   "metadata": {
    "collapsed": false
   },
   "outputs": [
    {
     "name": "stdout",
     "output_type": "stream",
     "text": [
      "Slicing Sequence...\n",
      "[2 1 2 1 2 0 2 1 2 2 1 1 2 2 0 0 0 0 0 1 2 2 0 2 0 0 1 2 2 1 0 0 2 0 1 1 2\n",
      " 2 2 0 0 0 1 2 0 0 0 1 2 1]\n"
     ]
    }
   ],
   "source": [
    "pred_X = gcf.predict(X_te)\n",
    "print(pred_X)"
   ]
  },
  {
   "cell_type": "code",
   "execution_count": 9,
   "metadata": {
    "collapsed": false
   },
   "outputs": [
    {
     "name": "stdout",
     "output_type": "stream",
     "text": [
      "gcForest accuracy : 0.92\n"
     ]
    }
   ],
   "source": [
    "# evaluating accuracy\n",
    "accuracy = accuracy_score(y_true=y_te, y_pred=pred_X)\n",
    "print('gcForest accuracy : {}'.format(accuracy))"
   ]
  },
  {
   "cell_type": "markdown",
   "metadata": {},
   "source": [
    "<h2>Digits Example</h2>\n",
    "<p>A much better example is the digits data set containing images of hand written digits.\n",
    "The scikit data set can be viewed as a mini-MNIST for training purpose.</p>"
   ]
  },
  {
   "cell_type": "code",
   "execution_count": 10,
   "metadata": {
    "collapsed": true
   },
   "outputs": [],
   "source": [
    "# loading the data\n",
    "digits = load_digits()\n",
    "X = digits.data\n",
    "y = digits.target\n",
    "X_tr, X_te, y_tr, y_te = train_test_split(X, y, test_size=0.33)"
   ]
  },
  {
   "cell_type": "markdown",
   "metadata": {},
   "source": [
    "<p> ... taining gcForest ... (can take some time...) </p>"
   ]
  },
  {
   "cell_type": "code",
   "execution_count": 11,
   "metadata": {
    "collapsed": false
   },
   "outputs": [
    {
     "name": "stdout",
     "output_type": "stream",
     "text": [
      "Slicing Images...\n",
      "Training MGS Random Forests...\n",
      "Slicing Images...\n",
      "Training MGS Random Forests...\n",
      "Adding/Training Layer, n_layer=1\n",
      "Layer validation accuracy = 1.0\n",
      "Adding/Training Layer, n_layer=2\n",
      "Layer validation accuracy = 1.0\n"
     ]
    }
   ],
   "source": [
    "gcf = gcForest(window=[4,6], tolerance=0.0, min_samples=7)\n",
    "gcf.fit(X_tr, y_tr, shape_1X=[8,8])"
   ]
  },
  {
   "cell_type": "markdown",
   "metadata": {},
   "source": [
    "<p> ... and predicting classes ... </p>"
   ]
  },
  {
   "cell_type": "code",
   "execution_count": 12,
   "metadata": {
    "collapsed": false
   },
   "outputs": [
    {
     "name": "stdout",
     "output_type": "stream",
     "text": [
      "Slicing Images...\n",
      "Slicing Images...\n",
      "[0 4 9 5 6 6 9 6 7 1 7 5 4 5 2 8 3 1 4 2 4 9 1 7 0 5 2 2 6 6 5 8 4 2 9 7 8\n",
      " 4 2 3 1 9 8 6 8 6 8 5 5 1 1 6 6 1 6 7 3 2 1 8 5 9 5 2 1 3 7 4 8 5 7 6 7 1\n",
      " 9 1 0 9 9 0 3 1 1 9 4 5 1 9 6 5 3 6 3 3 2 8 3 1 9 2 7 0 4 3 1 7 5 7 4 0 5\n",
      " 8 4 9 1 8 8 7 3 4 5 0 5 4 2 5 8 0 8 9 7 6 2 9 7 1 0 4 9 5 5 7 9 2 5 2 8 4\n",
      " 1 9 9 1 4 9 1 0 6 0 2 7 6 5 3 1 4 7 5 3 4 8 2 2 1 8 1 0 1 1 8 2 3 3 0 1 4\n",
      " 6 3 2 5 9 4 3 8 1 7 5 3 3 8 5 2 1 4 3 0 5 3 2 9 5 1 7 7 4 3 4 0 2 3 4 1 1\n",
      " 2 7 9 2 0 7 7 7 6 8 8 5 2 7 2 6 1 0 3 6 2 3 0 0 7 5 3 5 2 4 1 0 4 9 1 6 3\n",
      " 6 6 1 9 6 6 6 6 3 7 3 5 7 5 7 6 0 4 0 2 4 1 6 2 0 8 6 6 4 9 2 6 7 1 8 9 3\n",
      " 6 8 5 4 7 9 0 6 5 0 1 7 9 5 4 2 0 8 7 1 1 6 3 3 1 8 0 7 5 0 9 4 0 3 9 8 8\n",
      " 8 8 8 4 5 8 4 1 3 8 9 9 0 0 8 3 1 4 3 4 9 5 2 6 6 2 8 0 6 3 3 9 7 5 4 6 4\n",
      " 6 7 1 4 9 5 9 6 1 8 4 8 6 6 8 2 3 8 2 2 9 1 9 6 4 2 3 7 5 6 8 1 8 0 7 1 8\n",
      " 4 2 9 5 1 1 0 1 9 0 7 9 5 2 8 4 6 2 3 0 1 6 3 0 9 7 3 1 0 0 1 5 4 5 5 0 9\n",
      " 8 9 9 2 1 3 6 7 8 7 2 9 4 3 0 8 5 9 9 5 4 0 5 3 9 2 1 8 4 7 3 3 5 0 2 7 9\n",
      " 6 3 6 9 7 1 3 0 4 7 1 6 0 8 4 8 0 2 3 9 4 0 8 5 6 0 8 3 1 6 5 6 3 8 3 5 8\n",
      " 9 2 7 0 2 8 3 5 2 0 7 9 8 1 5 4 9 6 9 7 9 9 6 9 7 5 1 3 4 8 0 5 7 3 1 9 5\n",
      " 3 5 6 6 8 4 0 2 3 6 2 5 3 2 3 5 8 4 1 8 6 9 9 0 3 8 3 2 6 6 1 1 6 5 9 1 3\n",
      " 1 2]\n"
     ]
    }
   ],
   "source": [
    "pred_X = gcf.predict(X_te)\n",
    "print(pred_X)"
   ]
  },
  {
   "cell_type": "code",
   "execution_count": 15,
   "metadata": {
    "collapsed": false
   },
   "outputs": [
    {
     "name": "stdout",
     "output_type": "stream",
     "text": [
      "gcForest accuracy : 0.98989898989899\n"
     ]
    }
   ],
   "source": [
    "# evaluating accuracy\n",
    "accuracy = accuracy_score(y_true=y_te, y_pred=pred_X)\n",
    "print('gcForest accuracy : {}'.format(accuracy))"
   ]
  },
  {
   "cell_type": "code",
   "execution_count": null,
   "metadata": {
    "collapsed": true
   },
   "outputs": [],
   "source": []
  }
 ],
 "metadata": {
  "kernelspec": {
   "display_name": "Python 3",
   "language": "python",
   "name": "python3"
  },
  "language_info": {
   "codemirror_mode": {
    "name": "ipython",
    "version": 3
   },
   "file_extension": ".py",
   "mimetype": "text/x-python",
   "name": "python",
   "nbconvert_exporter": "python",
   "pygments_lexer": "ipython3",
   "version": "3.5.2"
  }
 },
 "nbformat": 4,
 "nbformat_minor": 2
}
